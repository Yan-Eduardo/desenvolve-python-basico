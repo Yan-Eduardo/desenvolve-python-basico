{
 "cells": [
  {
   "cell_type": "markdown",
   "id": "cbdff5a5",
   "metadata": {},
   "source": [
    "# Módulo 5 - Funções\n",
    "\n",
    "## Aulas 5.2 - Funções Customizadas e 5.4 Funções ```lambda```"
   ]
  },
  {
   "cell_type": "markdown",
   "id": "28a3fee2",
   "metadata": {},
   "source": [
    "### Q1.\n",
    "\n",
    "- Sabendo que o código a seguir calcula o fatorial de n, escreva uma função chamada ```fatorial()``` que recebe um inteiro ```n``` como parâmetro e retorna o resultado do fatorial de ```n```. \n",
    "- No programa principal, peça ao usuário o valor de ```n```, chame a sua função e imprima o retorno.\n",
    "\n",
    "```python\n",
    "fat = 1\n",
    "for i in range(1, n+1):\n",
    "    fat *= i \n",
    "```"
   ]
  },
  {
   "cell_type": "code",
   "execution_count": null,
   "id": "d126b3a5",
   "metadata": {},
   "outputs": [],
   "source": [
    "## Crie aqui a função fatorial()\n",
    "## lembre-se de executar a célula para que \n",
    "## a função passe a existir e possa ser chamada\n",
    "def fatorial(n):\n",
    "    if n == 0:\n",
    "        return 1\n",
    "    else:\n",
    "        return n * fatorial(n-1)"
   ]
  },
  {
   "cell_type": "code",
   "execution_count": null,
   "id": "6e4fe64e",
   "metadata": {},
   "outputs": [],
   "source": [
    "## Escreva aqui o programa principal e execute a célula\n",
    "n = int(input(\"digite um valor: \"))\n",
    "\n",
    "print(fatorial(n))"
   ]
  },
  {
   "cell_type": "markdown",
   "id": "c0a1f599",
   "metadata": {},
   "source": [
    "### Q2.\n",
    "\n",
    "- Escreva uma função em Python chamada ```soma_quadrados``` que recebe dois números como parâmetros e retorna a soma dos seus quadrados. \n",
    "- No programa principal solicite ao usuário que insira dois números e utilize a função para exibir a soma dos quadrados."
   ]
  },
  {
   "cell_type": "code",
   "execution_count": null,
   "id": "6dbddaad",
   "metadata": {},
   "outputs": [],
   "source": [
    "## Crie aqui a função soma_quadrados()\n",
    "def soma_quadrados(n1, n2):\n",
    "    return((n1*n1)+(n2*n2))"
   ]
  },
  {
   "cell_type": "code",
   "execution_count": null,
   "id": "9175a7da",
   "metadata": {},
   "outputs": [],
   "source": [
    "## Escreva aqui o programa principal e execute a célula\n",
    "n1 = int(input(\"Digite o primeiro número: \"))\n",
    "n2 = int(input(\"Digite o segundo número: \"))\n",
    "\n",
    "print(f\"A soma dos quadrados dos números é {soma_quadrados(n1, n2)}\")"
   ]
  },
  {
   "cell_type": "markdown",
   "id": "6ba34ce0",
   "metadata": {},
   "source": [
    "### Q3.\n",
    "\n",
    "- Crie uma função em Python chamada ```soma_digitos``` que recebe um número inteiro como parâmetro e retorna a soma dos seus dígitos. Por exemplo, para o número 123, a função deve retornar 6, $(1 + 2 + 3)$.\n",
    "    - O desafio aqui é separar os dígitos de um número inteiro usando operações aritméticas <br> <br>\n",
    "\n",
    "- No programa principal solicite ao usuário que insira um número e utilize a função ```soma_digitos``` para calcular e exibir a soma dos seus dígitos."
   ]
  },
  {
   "cell_type": "code",
   "execution_count": null,
   "id": "34838ebf",
   "metadata": {},
   "outputs": [],
   "source": [
    "## Crie aqui a função soma_digitos()\n",
    "# Função para separar os dígitos de um número\n",
    "def soma_digitos(numero):\n",
    "    # Inicializa a variável para armazenar a soma dos dígitos\n",
    "    soma = 0\n",
    "    \n",
    "    # Enquanto o número não for zero\n",
    "    while numero != 0:\n",
    "        # Obtém o último dígito usando o resto da divisão por 10\n",
    "        ultimo_digito = numero % 10\n",
    "        # Adiciona o último dígito à soma\n",
    "        soma += ultimo_digito\n",
    "        # Remove o último dígito do número, usando a divisão inteira por 10\n",
    "        numero = numero // 10\n",
    "    \n",
    "    return soma\n",
    "\n",
    "\n"
   ]
  },
  {
   "cell_type": "code",
   "execution_count": null,
   "id": "27c35b21",
   "metadata": {},
   "outputs": [],
   "source": [
    "## Escreva aqui o programa principal e execute a célula\n",
    "numero = int(input(\"Digite o número: \"))\n",
    "print(f\"A soma dos dígitos de {numero} é: {soma_digitos(numero)}\")"
   ]
  },
  {
   "cell_type": "markdown",
   "id": "c318b159",
   "metadata": {},
   "source": [
    "### Q4.\n",
    "\n",
    "- Crie a função ```inverteValor()``` que recebe um inteiro de qualquer tamanho e retorna esse valor invertido usando apenas operações aritméticas\n",
    "- Crie a função ```verificaInverso()``` que recebe o valor original e o valor invertido e retorna verdadeiro se ambos forem igualmente par ou igualmente ímpar. Retorne falso caso contrário.\n",
    "- No programa principal, peça um valor do usuário e imprima o retorno de ambas as funções.\n"
   ]
  },
  {
   "cell_type": "code",
   "execution_count": 4,
   "id": "e4e47d1d",
   "metadata": {},
   "outputs": [
    {
     "name": "stdout",
     "output_type": "stream",
     "text": [
      "O número invertido é: 451\n",
      "False\n"
     ]
    }
   ],
   "source": [
    "## Crie aqui as funções inverteValor() e verificaInverso()\n",
    "def inverteValor(numero):\n",
    "    # Caso o número seja negativo, tratamos ele como positivo para facilitar a separação\n",
    "    negativo = False\n",
    "    if numero < 0:\n",
    "        numero *= -1\n",
    "        negativo = True\n",
    "    inverso = 0\n",
    "    \n",
    "    while numero > 0:\n",
    "        # Obtém o último dígito do número (resto da divisão por 10)\n",
    "        ultimo_digito = numero % 10\n",
    "        # Adiciona o dígito ao inverso\n",
    "        inverso = inverso * 10 + ultimo_digito\n",
    "        # Remove o último dígito do número original\n",
    "        numero //= 10\n",
    "    \n",
    "    if negativo == True:\n",
    "        inverso *= -1\n",
    "\n",
    "    return inverso\n",
    "\n",
    "def verificaInverso(n1, n2):\n",
    "    # Caso o número seja negativo, tratamos ele como positivo para facilitar a separação\n",
    "    if n1 < 0:\n",
    "        n1 *= -1\n",
    "    \n",
    "    if n2 < 0:\n",
    "        n2 *= -1\n",
    "\n",
    "    if (n1 % 2 == 0 and n2 % 2 == 0) or (n1 % 2 != 0 and n2 % 2 != 0):\n",
    "        return True\n",
    "    else:\n",
    "        return False"
   ]
  },
  {
   "cell_type": "code",
   "execution_count": 5,
   "id": "a9514e56",
   "metadata": {},
   "outputs": [
    {
     "name": "stdout",
     "output_type": "stream",
     "text": [
      "O número invertido é: 451\n",
      "False\n"
     ]
    }
   ],
   "source": [
    "## Escreva aqui o programa principal e execute a célula\n",
    "numero = int(input(\"Digite o número: \"))\n",
    "numero_invertido = inverteValor(numero)\n",
    "\n",
    "print(f\"O número invertido é: {numero_invertido}\")\n",
    "print(verificaInverso(numero, numero_invertido))"
   ]
  },
  {
   "cell_type": "markdown",
   "id": "329be966",
   "metadata": {},
   "source": [
    "### Q5.\n",
    "\n",
    "Você está desenvolvendo um programa para auxiliar em cálculos de geometria básica. Crie as seguintes funções:\n",
    "- A função ```calcula_perimetro_triangulo()``` que recebe três inteiros correspondentes aos lados de um triângulo e retorna o perímetro do triângulo, ou seja, a soma dos seus lados.\n",
    "- A função ```calcula_perimetro_circulo()``` que recebe um inteiro referente ao raio do círculo e retorna o perímetro do círculo, dado por $2 \\pi r$. Use a constante $\\pi$ da biblioteca ```math```.\n",
    "- A função ```calcula_perimetro_retangulo()``` que possui um parâmetro obrigatório ```lado1``` e um opcional ```lado2```, ambos inteiros. Se o valor opcional não for fornecido, significa que se trata de um quadrado. Sua função deve calcular e retornar o perímetro do retângulo, ou seja, a soma de seus lados. \n",
    "    - Para o quadrado, é dado por $4 \\times lado1$\n",
    "    - Para o retângulo é dado por $2 \\times lado1 + 2 \\times lado2$\n",
    "    \n",
    "- No programa principal apresente um menu com as opções disponíveis do seu sistema e uma quarta opção ```Sair```. Solicite ao usuário a opção desejada, solicite as entradas correspondentes à opção escolhida, invoque a respective função e apresente o seu retorno. Seu programa deve retornar ao menu até que o usuário escolha a opção ```Sair```\n",
    "\n",
    "Exemplo de interação:\n",
    "```\n",
    "1 - Calcular perímetro triângulo\n",
    "2 - Calcular perímetro círculo\n",
    "3 - Calcular perímetro retângulo\n",
    "4 - Sair\n",
    "\n",
    "Opção: 1\n",
    "Digite os três lados do triângulo:\n",
    "3\n",
    "4\n",
    "5\n",
    "O perímetro é: 12\n",
    "\n",
    "1 - Calcular perímetro triângulo\n",
    "2 - Calcular perímetro círculo\n",
    "3 - Calcular perímetro retângulo\n",
    "4 - Sair\n",
    "\n",
    "Opção: 3\n",
    "Informe os dois lados do retângulo. Se for um quadrado, digite 0 para o segundo valor:\n",
    "5\n",
    "0\n",
    "O perímetro é: 20\n",
    "\n",
    "1 - Calcular perímetro triângulo\n",
    "2 - Calcular perímetro círculo\n",
    "3 - Calcular perímetro retângulo\n",
    "4 - Sair\n",
    "\n",
    "Opção: 4\n",
    "```"
   ]
  },
  {
   "cell_type": "code",
   "execution_count": 6,
   "id": "0793d328",
   "metadata": {},
   "outputs": [],
   "source": [
    "## Crie aqui as funções \n",
    "import math\n",
    "\n",
    "def calcula_perimetro_triangulo(n1, n2, n3):\n",
    "    perimetro = n1 + n2 + n3\n",
    "    return perimetro\n",
    "\n",
    "def calcula_perimetro_circulo(n):\n",
    "    perimetro = 2 * math.py * n\n",
    "    return perimetro\n",
    "\n",
    "def calcula_perimetro_retangulo(n1, n2=0):\n",
    "    if n2 == 0:\n",
    "        perimetro = n1 * 4\n",
    "    else:\n",
    "        perimetro = (2*n1)+(2*n2)\n",
    "    return perimetro"
   ]
  },
  {
   "cell_type": "code",
   "execution_count": 6,
   "id": "36269c71",
   "metadata": {},
   "outputs": [],
   "source": [
    "## Escreva aqui o programa principal \n",
    "while True:\n",
    "    opcao = input(\"Digite qual forma deseja calcular o perímetro(triângulo/círculo/retângulo/sair): \")\n",
    "    if opcao == \"triângulo\":\n",
    "        n1 = int(input(\"Digite o primeiro lado: \"))\n",
    "        n2 = int(input(\"Digite o segundo lado: \"))\n",
    "        n3 = int(input(\"Digite o terceiro lado: \"))\n",
    "        print(f\"O perimetro do triângulo é: {calcula_perimetro_triangulo(n1, n2, n3)}\")\n",
    "    elif opcao == \"círculo\":\n",
    "        n = int(input(\"Digite o raio do círgulo: \"))\n",
    "        print(f\"O perimetro do círculo é: {calcula_perimetro_circulo(n)}\")\n",
    "    elif opcao == \"retângulo\":\n",
    "        n1 = int(input(\"Digite o primeiro lado: \"))\n",
    "        n2 = input(\"Digite o segundo lado: \")\n",
    "        if n2 == \"\":\n",
    "            n2 = 0\n",
    "    elif opcao == \"sair\":\n",
    "        break\n"
   ]
  },
  {
   "cell_type": "markdown",
   "id": "3016bcc7",
   "metadata": {},
   "source": [
    "## Funções ```lambda```"
   ]
  },
  {
   "cell_type": "markdown",
   "id": "f9cdb8dd",
   "metadata": {},
   "source": [
    "### Q6.\n",
    "\n",
    "Crie uma função lambda para verificar se um número é par ou ímpar. Em seguida, solicite ao usuário um número indefinidos de valores (até que o usuário digite 0). Para cada valor de entrada, informe se é par ou ímpar.\n",
    "\n",
    "Exemplo de interação:\n",
    "```\n",
    "Digite os valores que deseja verificar a paridade (digite 0 para finalizar a entrada de dados):\n",
    "3\n",
    "ímpar\n",
    "8\n",
    "par\n",
    "12\n",
    "par\n",
    "5\n",
    "ímpar\n",
    "7ímpar\n",
    "```"
   ]
  },
  {
   "cell_type": "code",
   "execution_count": 7,
   "id": "e3c31a78",
   "metadata": {},
   "outputs": [],
   "source": [
    "verificar_par_impar = lambda x: \"par\" if x % 2 == 0 else \"ímpar\"\n",
    "\n",
    "while True:\n",
    "    n = int(input(\"Digite um número(0 = sair): \"))\n",
    "    if n != 0:\n",
    "        print(verificar_par_impar(n))\n",
    "    else:\n",
    "        break"
   ]
  },
  {
   "cell_type": "markdown",
   "id": "5a87474d",
   "metadata": {},
   "source": [
    "### Q7.\n",
    "\n",
    "Escreva um programa que pergunte ao usuário qual operação ele deseja: maior ou menor.\n",
    "Em seguida leia uma quantidade indefinida de valores do usuário, até que o usuário digite o valor zero.\n",
    "Apresente ao final o maior ou menor dos valores digitados de acordo com a escolha do usuário.\n",
    "\n",
    "**Sua solução deve incluir pelo menos uma função ```lambda```** \n",
    "\n",
    "Exemplo de interação:\n",
    "```\n",
    "Opções: (1) maior ou (2) menor?\n",
    "Opção: 1\n",
    "\n",
    "Digite os valores de entrada. Digite 0 para finalizar a entrada de valores.\n",
    "4\n",
    "12\n",
    "15\n",
    "1\n",
    "0\n",
    "\n",
    "O maior valor é: 15\n",
    "```"
   ]
  },
  {
   "cell_type": "code",
   "execution_count": 8,
   "id": "ee3f68ca",
   "metadata": {},
   "outputs": [
    {
     "ename": "ValueError",
     "evalue": "invalid literal for int() with base 10: ''",
     "output_type": "error",
     "traceback": [
      "\u001b[1;31m---------------------------------------------------------------------------\u001b[0m",
      "\u001b[1;31mValueError\u001b[0m                                Traceback (most recent call last)",
      "Cell \u001b[1;32mIn[8], line 8\u001b[0m\n\u001b[0;32m      4\u001b[0m maior \u001b[38;5;241m=\u001b[39m \u001b[38;5;28mfloat\u001b[39m(\u001b[38;5;124m'\u001b[39m\u001b[38;5;124m-inf\u001b[39m\u001b[38;5;124m'\u001b[39m)\n\u001b[0;32m      5\u001b[0m menor \u001b[38;5;241m=\u001b[39m \u001b[38;5;28mfloat\u001b[39m(\u001b[38;5;124m'\u001b[39m\u001b[38;5;124minf\u001b[39m\u001b[38;5;124m'\u001b[39m)\n\u001b[1;32m----> 8\u001b[0m opcao \u001b[38;5;241m=\u001b[39m \u001b[38;5;28;43mint\u001b[39;49m\u001b[43m(\u001b[49m\u001b[38;5;28;43minput\u001b[39;49m\u001b[43m(\u001b[49m\u001b[38;5;124;43m\"\u001b[39;49m\u001b[38;5;124;43mDigite 1 para maior, 2 para menor: \u001b[39;49m\u001b[38;5;124;43m\"\u001b[39;49m\u001b[43m)\u001b[49m\u001b[43m)\u001b[49m\n\u001b[0;32m      9\u001b[0m \u001b[38;5;28;01mif\u001b[39;00m opcao \u001b[38;5;241m==\u001b[39m \u001b[38;5;241m1\u001b[39m: \u001b[38;5;66;03m#se a opção for 1\u001b[39;00m\n\u001b[0;32m     10\u001b[0m         \u001b[38;5;28;01mwhile\u001b[39;00m \u001b[38;5;28;01mTrue\u001b[39;00m:\n",
      "\u001b[1;31mValueError\u001b[0m: invalid literal for int() with base 10: ''"
     ]
    }
   ],
   "source": [
    "## Escreva aqui o programa principal \n",
    "eMaior = lambda n1, n2: n1>n2\n",
    "eMenor = lambda n1, n2: n1<n2\n",
    "maior = float('-inf')\n",
    "menor = float('inf')\n",
    "\n",
    "\n",
    "opcao = int(input(\"Digite 1 para maior, 2 para menor: \"))\n",
    "if opcao == 1: #se a opção for 1\n",
    "        while True:\n",
    "            n = int(input(\"Digite um número(0 para sair): \")) #solicitando o número para comparar\n",
    "            if n != 0: #verifiacando se não é 0\n",
    "                checar = eMaior(n, maior) #utilizando a função, que retorna True caso n seja maior que o maior\n",
    "                if checar:\n",
    "                    maior = n\n",
    "            else:\n",
    "                print(f\"O maior valor é: {maior}\")\n",
    "                break #quebrar caso o número digitado seja 0\n",
    "elif opcao == 2: #se a opção for 1\n",
    "        while True:\n",
    "            n = int(input(\"Digite um número(0 para sair): \")) #solicitando o número para comparar\n",
    "            if n != 0: #verifiacando se não é 0\n",
    "                checar = eMenor(n, menor) #utilizando a função, que retorna True caso n seja menor que o menor\n",
    "                if checar:\n",
    "                    menor = n\n",
    "            else:\n",
    "                print(f\"O menor valor é: {menor}\")\n",
    "                break #quebrar caso o número digitado seja 0\n",
    "else:\n",
    "     print(\"Opção inválida\")"
   ]
  }
 ],
 "metadata": {
  "kernelspec": {
   "display_name": "Python 3 (ipykernel)",
   "language": "python",
   "name": "python3"
  },
  "language_info": {
   "codemirror_mode": {
    "name": "ipython",
    "version": 3
   },
   "file_extension": ".py",
   "mimetype": "text/x-python",
   "name": "python",
   "nbconvert_exporter": "python",
   "pygments_lexer": "ipython3",
   "version": "3.12.6"
  }
 },
 "nbformat": 4,
 "nbformat_minor": 5
}
